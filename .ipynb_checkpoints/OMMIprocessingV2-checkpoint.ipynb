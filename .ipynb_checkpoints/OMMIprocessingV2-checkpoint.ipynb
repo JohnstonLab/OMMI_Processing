{
 "cells": [
  {
   "cell_type": "markdown",
   "metadata": {},
   "source": [
    "## OMMI processing\n",
    "- First run the code up to the registration for all files for an experiment\n",
    "- Change directory to registered files and copy text files into here\n",
    "- Then get ROIs from the condition that is expected to give strongest responses\n",
    "- Use the same ROIs for all other conditions"
   ]
  },
  {
   "cell_type": "markdown",
   "metadata": {},
   "source": [
    "### notes\n",
    "\n",
    "- Consider multithreading extraction of time courses\n",
    "- Registration throws index error when green frame is last in file"
   ]
  },
  {
   "cell_type": "code",
   "execution_count": null,
   "metadata": {},
   "outputs": [],
   "source": [
    "import numpy as np\n",
    "import tifffile as tf\n",
    "import matplotlib.pyplot as plt\n",
    "import glob\n",
    "from scipy import ndimage\n",
    "from scipy import signal\n",
    "from roipoly import MultiRoi\n",
    "import imregpoc\n",
    "import mpld3\n",
    "from skimage import feature\n",
    "from skimage import draw\n",
    "\n",
    "#mpld3.enable_notebook()  ## disable if no internet connection\n",
    "\n",
    "def getROI(roi, im):\n",
    "    data=np.zeros((len(im)))\n",
    "    for i in range(len(im)):\n",
    "        data[i]=ndimage.mean(im[i,:,:],labels=roi)\n",
    "    return data\n",
    "\n",
    "def AOIselector(imageIn):\n",
    "    ### imagIn expected to be single frame###\n",
    "    %matplotlib \n",
    "    plt.imshow(imageIn)\n",
    "    plt.show()\n",
    "    my_rois = MultiRoi(roi_names=['bulb1', 'bulb2'])\n",
    "    %matplotlib inline\n",
    "\n",
    "    BulbMask = my_rois.rois['bulb1'].get_mask(imageIn)\n",
    "    BulbMask+=my_rois.rois['bulb2'].get_mask(imageIn)\n",
    "    return BulbMask\n"
   ]
  },
  {
   "cell_type": "code",
   "execution_count": null,
   "metadata": {},
   "outputs": [],
   "source": [
    "#path='D:/Cedric/OMMI/FastedGlucose/805/Glucose/*.txt'\n",
    "#path ='D:/Cedric/OMMI/Glutamate blockers/ID790/Glucose/*.txt'\n",
    "path='C:/Users/johnstonlab/Documents/Reged/Glucose/*.txt'\n",
    "# D:\\Cedric\\OMMI\\Glutamate blockers\\ID790\\Fasted\n",
    "\n",
    "files=glob.glob(path)"
   ]
  },
  {
   "cell_type": "code",
   "execution_count": null,
   "metadata": {},
   "outputs": [],
   "source": [
    "## check file names are sequenctial\n",
    "fileNums=[]\n",
    "for data in files:\n",
    "    fileNums.append(int(data[-7:-4]))\n",
    "\n",
    "plt.plot(fileNums)\n",
    "del fileNums, data"
   ]
  },
  {
   "cell_type": "markdown",
   "metadata": {},
   "source": [
    "### Register data to green channel\n",
    "- Only run the first of these cells once per experiment. The first cell gets the reference image to which everything else will be registered\n",
    "- Once this has been executed change teh path to the location of the registered files and copy all the text files, required for accurate splitting of channels"
   ]
  },
  {
   "cell_type": "code",
   "execution_count": null,
   "metadata": {
    "scrolled": true
   },
   "outputs": [],
   "source": [
    "## Get the reference image to which everything will be registered\n",
    "im = tf.imread(files[1][:-4]+'0001.tif') ## specify the file path for this seperately as it will be the same across all sessions\n",
    "\n",
    "# padding parameters for phase correlation\n",
    "padsize=512\n",
    "stY=int((padsize-im.shape[1])/2)\n",
    "enY=(padsize-im.shape[1])-stY\n",
    "stX=int((padsize-im.shape[2])/2)\n",
    "enX=(padsize-im.shape[2])-stX\n",
    "\n",
    "## get reference image\n",
    "txt = np.loadtxt(files[0])\n",
    "channel=txt[:,1];\n",
    "Chan1=np.argwhere(channel==1);\n",
    "redfileLen = len(np.argwhere(channel==1))\n",
    "fileLength=round((redfileLen/100)-0.5)*100  ## round down to nearest 100\n",
    "print('number of frames in image data is', redfileLen, 'so rounding to', fileLength)\n",
    "RefImage=np.pad(np.squeeze(im[Chan1[0],:,:]),((stY,enY),(stX,enX)), 'constant',constant_values=(0))\n",
    "plt.imshow(im[1]);\n",
    "#del txt, channel, Chan1, padsize"
   ]
  },
  {
   "cell_type": "code",
   "execution_count": null,
   "metadata": {},
   "outputs": [],
   "source": [
    "# # register\n",
    "\n",
    "for file in files:\n",
    "#file = files[0]    \n",
    "    txt = np.loadtxt(file)\n",
    "    channel=txt[:,1];\n",
    "    Chan1=np.argwhere(channel==1);\n",
    "\n",
    "    im = tf.imread(file[:-4]+'0001.tif') # get corresponding tiff file\n",
    "    imPadded = np.zeros((len(im),512,512)) ## padded movie for phase correlation\n",
    "    #imPadded0= np.zeros((len(im),512,512))\n",
    "    Im1reg=np.zeros((len(Chan1),512,512))\n",
    "    for j in range(len(im)):  ## pad the whole movie\n",
    "        imPadded[j,:,:]=np.pad(np.squeeze(im[j,:,:]),((stY,enY),(stX,enX)), 'edge')#,constant_values=(0))# padimage(im[j,:,:])\n",
    "    for i in range(len(Chan1)):\n",
    "        Im1=np.squeeze(imPadded[Chan1[i],:,:])\n",
    "        regParams=imregpoc.imregpoc(Im1,RefImage)\n",
    "        if(i==len(Chan1)-1):   ## to catch last green channel and correct the remaining files\n",
    "            #print('stop')\n",
    "            for k in range(int(Chan1[i]),len(imPadded)):\n",
    "                imPadded[k,:,:]=regParams.Warp_4dof(imPadded[k,:,:],regParams.getParam());\n",
    "                #print(k)\n",
    "        else:\n",
    "            #print(i)\n",
    "            for k in range(int(Chan1[i]),int(Chan1[i+1])):\n",
    "                imPadded[k,:,:]=regParams.Warp_4dof(imPadded[k,:,:],regParams.getParam());\n",
    "\n",
    "\n",
    "    #channel1Stack=np.concatenate(Channel1)\n",
    "    tf.imwrite('Reged/'+file[-19:-4]+'0001.tif',imPadded[:,stY:im.shape[1]+stY,stX:im.shape[2]+stX].astype('uint16'))"
   ]
  },
  {
   "cell_type": "markdown",
   "metadata": {},
   "source": [
    "# Demix channels and odours\n",
    "- get -150 to +550 frames from each valve opening\n",
    "- calcuate and display the response images for each odour and channel"
   ]
  },
  {
   "cell_type": "code",
   "execution_count": null,
   "metadata": {},
   "outputs": [],
   "source": [
    "def demixChan(chan):\n",
    "    Channel=[]\n",
    "    for file in files:\n",
    "        txt = np.loadtxt(file)\n",
    "        im = tf.imread(file[:-4]+'0001.tif') # get corresponding tiff file\n",
    "        channel=txt[:,1];\n",
    "\n",
    "        Chan0=np.argwhere(channel==chan);# get locations of frames that correspond to channel 0\n",
    "        Im0=np.zeros((len(Chan0),im.shape[1],im.shape[2]),dtype='uint16') ## assign memroy\n",
    "\n",
    "        Valve0=[]\n",
    "        for i in range(len(Chan0)):\n",
    "            if Chan0[i]==len(im):\n",
    "                break\n",
    "            else:\n",
    "                Im0[i,:,:]=im[Chan0[i],:,:]\n",
    "                Valve0.append(txt[Chan0[i],3])\n",
    "        im0keep=Im0[(np.argmax(Valve0)-150):(np.argmax(Valve0)+(fileLength-230)),:,:] #550\n",
    "        Channel.append(im0keep)\n",
    "    return np.concatenate(Channel)"
   ]
  },
  {
   "cell_type": "code",
   "execution_count": null,
   "metadata": {},
   "outputs": [],
   "source": [
    "Red = demixChan(0)\n",
    "segmentLen = int(Red.shape[0]/len(files))\n",
    "print(segmentLen)"
   ]
  },
  {
   "cell_type": "code",
   "execution_count": null,
   "metadata": {},
   "outputs": [],
   "source": [
    "Blue = demixChan(2)\n",
    "Blue.shape"
   ]
  },
  {
   "cell_type": "code",
   "execution_count": null,
   "metadata": {},
   "outputs": [],
   "source": [
    "# input the order in whihc the odours were applied\n",
    "order=[2,1,4,3,2,3,1,4,2,1,4,3,1,3,4,2,1,4,2,3]*3\n",
    "print(order)\n",
    "odourOrder=np.asarray(order)\n",
    "\n",
    "del order"
   ]
  },
  {
   "cell_type": "markdown",
   "metadata": {},
   "source": [
    "## Seperate odours for each channel and get response images"
   ]
  },
  {
   "cell_type": "code",
   "execution_count": null,
   "metadata": {},
   "outputs": [],
   "source": [
    "def getResponseImages(BckCorrectedMovie,St,En):\n",
    "    Responses1=[]\n",
    "    Responses2=[]\n",
    "    Responses3=[]\n",
    "    Responses4=[]\n",
    "    k=0\n",
    "   # print(len(BckCorrectedMovie)/500)\n",
    "    for i in range(len(files)): #0,len(BckCorrectedMovie),fileLength):  # change back to 700 for green channel every 400  \n",
    "        stim=BckCorrectedMovie[(i*segmentLen):(i*segmentLen)+(segmentLen),:,:]\n",
    "        baseline=np.mean(stim[0:100,:,:],axis=0)\n",
    "        response=np.mean(stim[St:En,:,:],axis=0)\n",
    "        if odourOrder[k]==1:\n",
    "            Responses1.append(response-baseline)\n",
    "        elif odourOrder[k]==2:\n",
    "            Responses2.append(response-baseline)\n",
    "        elif odourOrder[k]==3:\n",
    "            Responses3.append(response-baseline)\n",
    "        elif odourOrder[k]==4:\n",
    "            Responses4.append(response-baseline)\n",
    "        k+=1\n",
    "    ResponseStack1=np.stack(Responses1, axis=0)\n",
    "    ResponseStack2=np.stack(Responses2, axis=0)\n",
    "    ResponseStack3=np.stack(Responses3, axis=0)\n",
    "    ResponseStack4=np.stack(Responses4, axis=0)\n",
    "    responses=[ResponseStack1,ResponseStack2,ResponseStack3,ResponseStack4]\n",
    "    return responses"
   ]
  },
  {
   "cell_type": "code",
   "execution_count": null,
   "metadata": {},
   "outputs": [],
   "source": [
    "redData=getResponseImages(Red,250,520)\n",
    "blueData=getResponseImages(Blue,160,190)\n",
    "\n"
   ]
  },
  {
   "cell_type": "markdown",
   "metadata": {},
   "source": [
    "## Plot highpass filtered response images"
   ]
  },
  {
   "cell_type": "code",
   "execution_count": null,
   "metadata": {
    "scrolled": false
   },
   "outputs": [],
   "source": [
    "odoursR = []\n",
    "odoursB=[]\n",
    "\n",
    "for st in redData:\n",
    "    a = ndimage.gaussian_filter(np.mean(st, axis=0),2)\n",
    "    b = ndimage.gaussian_filter(a,8)\n",
    "    odoursR.append((a-b)*-1)   ## invert red channel\n",
    "\n",
    "for st in blueData:\n",
    "    a = ndimage.gaussian_filter(np.mean(st, axis=0),1)\n",
    "    b = ndimage.gaussian_filter(a,7)\n",
    "    odoursB.append(a-b)\n",
    "    \n",
    "fig, axs=plt.subplots(2,4,figsize=(12,8), constrained_layout=True,sharey=True,sharex=True)\n",
    "\n",
    "for i in range(4):\n",
    "    axs[0][i].imshow(odoursR[i])\n",
    "    \n",
    "for i in range(4):\n",
    "    axs[1][i].imshow(odoursB[i]);#/im[0,:,:])\n",
    "\n",
    "del i, a, b, st"
   ]
  },
  {
   "cell_type": "markdown",
   "metadata": {},
   "source": [
    "## Define Glomeruli as ROIs\n",
    "- using Detemrinant of Hessian (blob_doh) or Laplacian of Gaussian (blob_log) to detect blobs corresponding to active glomeruli\n",
    "- define roi as 2 pixels smaller than this to ensure the centre contributes most\n",
    "- define background as annulus with extent 10 pix bigger than glomeuli, excluding areas that contain other active glomeruli"
   ]
  },
  {
   "cell_type": "code",
   "execution_count": null,
   "metadata": {},
   "outputs": [],
   "source": [
    "# mask the bulbs   optional, to undo rerun the above cell\n",
    "mask=AOIselector(odoursB[1]); ## use the image that looks the worst\n",
    "\n",
    "for r in odoursR:\n",
    "    r*=mask\n",
    "for r in odoursB:\n",
    "    r*=mask\n",
    "\n",
    "fig, axs = plt.subplots(1,2, figsize=(12,8))\n",
    "axs[0].imshow(odoursR[0]);\n",
    "axs[1].imshow(odoursB[0]);\n"
   ]
  },
  {
   "cell_type": "code",
   "execution_count": null,
   "metadata": {
    "scrolled": false
   },
   "outputs": [],
   "source": [
    "## first tune these parameters\n",
    "thr=7\n",
    "glomSize=[5,9]\n",
    "##\n",
    "od=2\n",
    "\n",
    "Redblob=odoursR[od].astype('float64')\n",
    "Blueblob=odoursB[od].astype('float64')\n",
    "rr=feature.blob_log(Redblob,glomSize[0],glomSize[1],threshold=thr,overlap=0.2)\n",
    "bb=feature.blob_log(Blueblob,glomSize[0],glomSize[1],threshold=thr,overlap=0.2)\n",
    "imSize=Redblob.shape\n",
    "combined =rr\n",
    "\n",
    "for b in bb:\n",
    "    d=rr-b\n",
    "    d=abs(d[:,0])+abs(d[:,1]) ## get distances between two circles centres\n",
    "    if np.min(d) > b[2]+4:\n",
    "        combined=np.append(combined,b[None,:],axis=0) ## if centres overlap they are the same so don't append\n",
    "\n",
    "fig, axs = plt.subplots(1,2, figsize=(12,8))\n",
    "axs[0].imshow(Redblob)\n",
    "axs[1].imshow(Blueblob)\n",
    "\n",
    "for blob in combined:\n",
    "    y,x,r = blob\n",
    "    c=plt.Circle((x,y),r,linewidth=2,color='r', fill=False)\n",
    "    d=plt.Circle((x,y),r,linewidth=2,color='b', fill=False)\n",
    "    axs[0].add_patch(c)\n",
    "    axs[1].add_patch(d)\n",
    "\n",
    "del c,combined,bb,rr,Redblob,Blueblob,od, y,r,x, blob"
   ]
  },
  {
   "cell_type": "code",
   "execution_count": null,
   "metadata": {
    "scrolled": false
   },
   "outputs": [],
   "source": [
    "## now get all rois for all odours\n",
    "i = 0\n",
    "for re in odoursR:\n",
    "    Redblob=re.astype('float64')\n",
    "    rbs = feature.blob_log(Redblob,glomSize[0],glomSize[1],threshold=thr,overlap=0.2)\n",
    "    if i ==0:\n",
    "        Combined = rbs\n",
    "    for rb in rbs:\n",
    "        d=Combined-rb\n",
    "        d=abs(d[:,0])+abs(d[:,1]) ## get distances between two circles centres\n",
    "        if np.min(d) > rb[2]+2:\n",
    "            Combined=np.append(Combined,rb[None,:],axis=0) ## if centres overlap they are the same so don't append\n",
    "    i+=1\n",
    "    \n",
    "for bl in odoursB:\n",
    "    Blueblob=bl.astype('float64')\n",
    "    blbs = feature.blob_log(Blueblob,glomSize[0],glomSize[1],threshold=thr,overlap=0.2)\n",
    "    for bb in blbs:\n",
    "        d=Combined-bb\n",
    "        d=abs(d[:,0])+abs(d[:,1]) ## get distances between two circles centres\n",
    "        if np.min(d) > bb[2]+2:\n",
    "            Combined=np.append(Combined,bb[None,:],axis=0) ## if centres overlap they are the same so don't append\n",
    "\n",
    "            \n",
    "## convert to a mask for timecourse extraction\n",
    "ROIs = np.zeros((len(Combined), imSize[0],imSize[1]))\n",
    "k=1\n",
    "for roi in Combined:\n",
    "    xx, yy =draw.circle(roi[0], roi[1], roi[2]-2, shape=imSize )\n",
    "    ROIs[k-1,xx,yy]=1\n",
    "    k+=1\n",
    "    \n",
    "## plotting\n",
    "fig, axs = plt.subplots(1,2, figsize=(12,8))\n",
    "axs[0].imshow(Redblob)\n",
    "axs[1].imshow(Blueblob)\n",
    "\n",
    "for blob in Combined:\n",
    "    y,x,r = blob\n",
    "    c=plt.Circle((x,y),r,linewidth=2,color='r', fill=False)\n",
    "    d=plt.Circle((x,y),r,linewidth=2,color='b', fill=False)\n",
    "    axs[0].add_patch(c)\n",
    "    axs[1].add_patch(d)\n",
    "\n",
    "del c,Redblob,Blueblob, y,r,x, blob"
   ]
  },
  {
   "cell_type": "code",
   "execution_count": null,
   "metadata": {},
   "outputs": [],
   "source": [
    "## generate background for each ROI\n",
    "BckROIs = np.zeros((len(Combined),imSize[0],imSize[1]))\n",
    "fullROIs= np.zeros((imSize[0],imSize[1]))\n",
    "k=1\n",
    "for roi in Combined:\n",
    "    xx, yy =draw.circle(roi[0], roi[1], roi[2], shape=imSize )\n",
    "    fullROIs[xx,yy]=1\n",
    "    xx, yy =draw.circle(roi[0], roi[1], roi[2]+10, shape=imSize )\n",
    "    BckROIs[k-1,xx,yy]=1\n",
    "    k+=1\n",
    "i=0\n",
    "\n",
    "for bRoi in BckROIs:\n",
    "    BckROIs[i,:,:]=(bRoi-fullROIs)>0\n",
    "    i+=1\n",
    "\n",
    "print(len(BckROIs), \" ROIs detected\")\n",
    "del bRoi, fullROIs, k,roi "
   ]
  },
  {
   "cell_type": "markdown",
   "metadata": {},
   "source": [
    "## Extract timecourses of each channel and its background\n",
    "- this takes a bit"
   ]
  },
  {
   "cell_type": "code",
   "execution_count": null,
   "metadata": {},
   "outputs": [],
   "source": [
    "## get surround timecourses of red channel\n",
    "RedSurround=np.zeros((len(Red),len(BckROIs)))\n",
    "for i in range(len(BckROIs)):\n",
    "    RedSurround[:,i]=getROI(BckROIs[i],Red)"
   ]
  },
  {
   "cell_type": "code",
   "execution_count": null,
   "metadata": {},
   "outputs": [],
   "source": [
    "## get Centre timecourses of red channel\n",
    "RedCentre=np.zeros((len(Red),len(BckROIs)))\n",
    "for i in range(len(ROIs)):\n",
    "    RedCentre[:,i]=getROI(ROIs[i],Red)"
   ]
  },
  {
   "cell_type": "code",
   "execution_count": null,
   "metadata": {},
   "outputs": [],
   "source": [
    "## get Surround timecourses of blue channel\n",
    "BlueSurround=np.zeros((len(Red),len(BckROIs)))\n",
    "for i in range(len(ROIs)):\n",
    "    BlueSurround[:,i]=getROI(BckROIs[i],Blue)"
   ]
  },
  {
   "cell_type": "code",
   "execution_count": null,
   "metadata": {},
   "outputs": [],
   "source": [
    "## get Centre timecourses of red channel\n",
    "BlueCentre=np.zeros((len(Red),len(BckROIs)))\n",
    "for i in range(len(ROIs)):\n",
    "    BlueCentre[:,i]=getROI(ROIs[i],Blue)"
   ]
  },
  {
   "cell_type": "markdown",
   "metadata": {},
   "source": [
    "## Save centres, surrounds and ROI masks"
   ]
  },
  {
   "cell_type": "code",
   "execution_count": null,
   "metadata": {},
   "outputs": [],
   "source": [
    "tf.imwrite('RedGlucose.tif',RedCentre)\n",
    "tf.imwrite('BlueGlucose.tif',BlueCentre)\n",
    "tf.imwrite('RedGlucoseSur.tif',RedSurround)\n",
    "tf.imwrite('BlueGlucoseSur.tif',BlueSurround)\n",
    "\n",
    "#tf.imwrite('Centres.tif', ROIs)\n",
    "#tf.imwrite('Surrounds.tif', BckROIs)"
   ]
  },
  {
   "cell_type": "markdown",
   "metadata": {},
   "source": [
    "# after here you will want to load in the processed data and plot however you want"
   ]
  },
  {
   "cell_type": "code",
   "execution_count": null,
   "metadata": {
    "scrolled": true
   },
   "outputs": [],
   "source": [
    "RedCorGluc = tf.imread('RedGlucose.tif')\n",
    "BlueCorGluc = tf.imread('BlueGlucose.tif')"
   ]
  },
  {
   "cell_type": "code",
   "execution_count": null,
   "metadata": {},
   "outputs": [],
   "source": [
    "BackgroundWeight = 0.7\n",
    "RedCorrected=RedCentre-(RedSurround*BackgroundWeight)\n",
    "BlueCorrected = BlueCentre-(BlueSurround*BackgroundWeight)\n"
   ]
  },
  {
   "cell_type": "markdown",
   "metadata": {},
   "source": [
    "## Get odour responses and plot some data\n",
    "\n",
    "### Todo\n",
    "- plot ROI and surround with data beside it, panel for each odour\n",
    "- plot individuals in light colour 1 point and ave/med in 2 point darker\n",
    "- Something to summarise all odours\n",
    "- slider to move through glomeruli"
   ]
  },
  {
   "cell_type": "code",
   "execution_count": null,
   "metadata": {
    "scrolled": true
   },
   "outputs": [],
   "source": [
    "def getOdourTimeCourse(ImTCdata):\n",
    "\n",
    "    Responses1=[]\n",
    "    Responses2=[]\n",
    "    Responses3=[]\n",
    "    Responses4=[]\n",
    "    k=0\n",
    "    for i in range(0,len(ImTCdata),segmentLen):  \n",
    "        stim=ImTCdata[i:i+segmentLen,:]\n",
    "        baseline=np.mean(stim[0:149,:],axis=0)\n",
    "\n",
    "        if odourOrder[k]==1:\n",
    "            Responses1.append((stim-baseline[None,:])/baseline[None,:])\n",
    "        elif odourOrder[k]==2:\n",
    "            Responses2.append((stim-baseline[None,:])/baseline[None,:])\n",
    "        elif odourOrder[k]==3:\n",
    "            Responses3.append((stim-baseline[None,:])/baseline[None,:])\n",
    "        elif odourOrder[k]==4:\n",
    "            Responses4.append((stim-baseline[None,:])/baseline[None,:])\n",
    "        k+=1\n",
    "\n",
    "    B1=np.stack(Responses1[0:5], axis=0)\n",
    "    B2=np.stack(Responses1[5:10], axis=0)\n",
    "    B3=np.stack(Responses1[10:15], axis=0)\n",
    "    Od1Bs=np.concatenate((B1,B2,B3),axis=1)# (blueResponses1[10:15], axis=1)\n",
    "\n",
    "    B1=np.stack(Responses2[0:5], axis=0)\n",
    "    B2=np.stack(Responses2[5:10], axis=0)\n",
    "    B3=np.stack(Responses2[10:15], axis=0)\n",
    "    Od2Bs=np.concatenate((B1,B2,B3),axis=1)# (blueResponses1[10:15], axis=1)\n",
    "\n",
    "    B1=np.stack(Responses3[0:5], axis=0)\n",
    "    B2=np.stack(Responses3[5:10], axis=0)\n",
    "    B3=np.stack(Responses3[10:15], axis=0)\n",
    "    Od3Bs=np.concatenate((B1,B2,B3),axis=1)# (blueResponses1[10:15], axis=1)\n",
    "\n",
    "    B1=np.stack(Responses4[0:5], axis=0)\n",
    "    B2=np.stack(Responses4[5:10], axis=0)\n",
    "    B3=np.stack(Responses4[10:15], axis=0)\n",
    "    Od4Bs=np.concatenate((B1,B2,B3),axis=1)# (blueResponses1[10:15], axis=1)\n",
    "    OdourTCs=[Od1Bs,Od2Bs,Od3Bs,Od4Bs]\n",
    "    return OdourTCs"
   ]
  },
  {
   "cell_type": "code",
   "execution_count": null,
   "metadata": {},
   "outputs": [],
   "source": [
    "od=0\n",
    "\n",
    "RedOdData=getOdourTimeCourse(RedCorrected)\n",
    "#RedDrugs =getOdourTimeCourse(RedCorGluc)\n",
    "BlueOdData=getOdourTimeCourse(BlueCorrected)\n",
    "#BlueDrugs =getOdourTimeCourse(BlueCorGluc)\n",
    "\n",
    "AveReds=np.mean(RedOdData[od],axis=0)\n",
    "AveBlues=np.mean(BlueOdData[od],axis=0)\n",
    "#AveRDrug=np.mean(RedDrugs[od],axis=0)\n",
    "#AveBDrug=np.mean(BlueDrugs[od],axis=0)\n",
    "\n",
    "# # # to show the mean\n",
    "AveReds=np.mean(AveReds,axis=1)\n",
    "AveBlues=np.mean(AveBlues,axis=1)\n",
    "# AveRDrug=np.mean(AveRDrug,axis=1)\n",
    "# AveBDrug=np.mean(AveBDrug,axis=1)\n",
    "\n",
    "\n",
    "#AveBlues=signal.savgol_filter(AveBlues,9,4,axis=0)\n",
    "#AveBDrug=signal.savgol_filter(AveBDrug,9,4,axis=0)\n",
    "\n",
    "#AveReds=signal.savgol_filter(AveReds,39,2,axis=0)\n",
    "#AveRDrug=signal.savgol_filter(AveRDrug,39,2,axis=0)"
   ]
  },
  {
   "cell_type": "code",
   "execution_count": null,
   "metadata": {
    "scrolled": false
   },
   "outputs": [],
   "source": [
    "for ex in range(0,15):\n",
    "    fig, ax=plt.subplots(2,1,figsize=(14,5), sharex=True)\n",
    "    ax[0].plot(AveReds[:,ex]*-1, color='r')\n",
    "   # ax[0].plot(AveRDrug[:,ex]*-1, color='y')\n",
    "    ax[1].plot(AveBlues[:,ex], color='b')\n",
    "   # ax[1].plot(AveBDrug[:,ex], color='y')\n",
    "    \n",
    "#     ax.plot(AveBlues[:,ex])\n",
    "#     ax2=ax.twinx()"
   ]
  },
  {
   "cell_type": "code",
   "execution_count": null,
   "metadata": {},
   "outputs": [],
   "source": [
    "fig, ax=plt.subplots(2,1,figsize=(14,5))\n",
    "ax[0].plot(AveReds*-1, color='r')\n",
    "#ax[0].plot(AveRDrug*-1, color='y')\n",
    "ax[1].plot(AveBlues, color='b')\n",
    "#ax[1].plot(AveBDrug, color='y')"
   ]
  },
  {
   "cell_type": "code",
   "execution_count": null,
   "metadata": {
    "scrolled": false
   },
   "outputs": [],
   "source": [
    "ex = 0\n",
    "mpld3.disable_notebook()\n",
    "\n",
    "for ex in range(55):\n",
    "    fig, ax=plt.subplots(1,1,figsize=(14,5))\n",
    "    ax.plot(AveReds[:,ex],color='r');\n",
    "    ax.plot(AveRedBck[:,ex],color='b');\n",
    "#ax2.plot(AveBlues[:,ex]);\n",
    "\n",
    "# ax.plot(AveReds[:,ex+1]*-1,color='y');\n",
    "#ax2 =ax.twinx() \n",
    "#ax2.plot(AveBlues[:,ex+1],color='y');"
   ]
  },
  {
   "cell_type": "code",
   "execution_count": null,
   "metadata": {},
   "outputs": [],
   "source": []
  },
  {
   "cell_type": "code",
   "execution_count": null,
   "metadata": {},
   "outputs": [],
   "source": []
  }
 ],
 "metadata": {
  "kernelspec": {
   "display_name": "Python 3",
   "language": "python",
   "name": "python3"
  },
  "language_info": {
   "codemirror_mode": {
    "name": "ipython",
    "version": 3
   },
   "file_extension": ".py",
   "mimetype": "text/x-python",
   "name": "python",
   "nbconvert_exporter": "python",
   "pygments_lexer": "ipython3",
   "version": "3.7.7"
  },
  "varInspector": {
   "cols": {
    "lenName": 16,
    "lenType": 16,
    "lenVar": 40
   },
   "kernels_config": {
    "python": {
     "delete_cmd_postfix": "",
     "delete_cmd_prefix": "del ",
     "library": "var_list.py",
     "varRefreshCmd": "print(var_dic_list())"
    },
    "r": {
     "delete_cmd_postfix": ") ",
     "delete_cmd_prefix": "rm(",
     "library": "var_list.r",
     "varRefreshCmd": "cat(var_dic_list()) "
    }
   },
   "position": {
    "height": "486.85px",
    "left": "732px",
    "right": "20px",
    "top": "156px",
    "width": "586px"
   },
   "types_to_exclude": [
    "module",
    "function",
    "builtin_function_or_method",
    "instance",
    "_Feature"
   ],
   "window_display": false
  }
 },
 "nbformat": 4,
 "nbformat_minor": 4
}
