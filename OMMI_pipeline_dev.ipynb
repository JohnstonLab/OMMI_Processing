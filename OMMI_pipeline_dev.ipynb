{
 "cells": [
  {
   "cell_type": "code",
   "execution_count": 4,
   "id": "9aba1598-d9de-46a0-92ad-57c865dfe3c0",
   "metadata": {},
   "outputs": [],
   "source": [
    "import numpy as np\n",
    "import tifffile as tf\n",
    "import matplotlib.pyplot as plt\n",
    "import glob\n",
    "from scipy import ndimage\n",
    "from scipy import signal\n",
    "from roipoly import MultiRoi\n",
    "import imregpoc\n",
    "# import mpld3\n",
    "from skimage import feature\n",
    "from skimage import draw\n",
    "\n",
    "def getROI(roi, im):\n",
    "    data=np.zeros((len(im)))\n",
    "    for i in range(len(im)):\n",
    "        data[i]=ndimage.mean(im[i,:,:],labels=roi)\n",
    "    return data\n",
    "\n",
    "def AOIselector(imageIn):\n",
    "    ### imagIn expected to be single frame###\n",
    "    %matplotlib \n",
    "    plt.imshow(imageIn)\n",
    "    plt.show()\n",
    "    my_rois = MultiRoi(roi_names=['bulb1', 'bulb2'])\n",
    "    %matplotlib inline\n",
    "\n",
    "    BulbMask = my_rois.rois['bulb1'].get_mask(imageIn)\n",
    "    BulbMask+=my_rois.rois['bulb2'].get_mask(imageIn)\n",
    "    return BulbMask"
   ]
  },
  {
   "cell_type": "code",
   "execution_count": 62,
   "id": "1ec00d40-8854-45d9-b696-7460eed86eca",
   "metadata": {},
   "outputs": [
    {
     "data": {
      "image/png": "[encoded data removed]",
      "text/plain": [
       "<Figure size 432x288 with 1 Axes>"
      ]
     },
     "metadata": {
      "needs_background": "light"
     },
     "output_type": "display_data"
    }
   ],
   "source": [
    "path='Z:/Data/Mark/CS2 Experiments/OMMI/210810_thinskull4/IsoA+ETig 3%/*.txt'\n",
    "\n",
    "files=glob.glob(path)\n",
    "\n",
    "## check file names are sequenctial\n",
    "fileNums=[]\n",
    "for data in files:\n",
    "    fileNums.append(int(data[-7:-4]))\n",
    "\n",
    "plt.plot(fileNums)\n",
    "del fileNums, data"
   ]
  },
  {
   "cell_type": "code",
   "execution_count": 77,
   "id": "dcdd5dfa-82dd-4c04-aeed-50b0131b7674",
   "metadata": {},
   "outputs": [],
   "source": [
    "def demix(RGorB,pre,post):\n",
    "    listofmovies = []\n",
    "    for file in files:\n",
    "        print(file)\n",
    "        txt = np.loadtxt(file)\n",
    "        im = tf.imread(file[:-4]+'0001.tif') # get corresponding tiff file\n",
    "        channel = txt[:im.shape[0],1];  ## assuming the longer txt file is due to run on at end, so crop it off\n",
    "        valve = txt[:im.shape[0],3];\n",
    "\n",
    "        frames = np.argwhere(channel==RGorB)[:,0]\n",
    "        \n",
    "        Valveframes = valve[frames]\n",
    "        \n",
    "        stimOn = np.argwhere(np.diff(Valveframes)==1)[0,0]\n",
    "        \n",
    "        oneMovie = im[frames,:,:]\n",
    "       \n",
    "        listofmovies.append(oneMovie[stimOn-pre:stimOn+post,:,:])\n",
    "    return np.concatenate(listofmovies,axis=0)\n",
    "\n",
    "def getRGBmovies():\n",
    "    red = demix(0,100,500)\n",
    "    green = demix(1,100,500)\n",
    "    blue = demix(2,100,500)\n",
    "    return red, green, blue"
   ]
  },
  {
   "cell_type": "code",
   "execution_count": 76,
   "id": "4a964c91-6ffb-431e-9776-f2b5a5a3566e",
   "metadata": {},
   "outputs": [],
   "source": [
    "def demix(files,pre,post):\n",
    "    reds = []\n",
    "    greens = []\n",
    "    blues = []\n",
    "    for file in files:\n",
    "        print(file)\n",
    "        txt = np.loadtxt(file)\n",
    "        im = tf.imread(file[:-4]+'0001.tif') # get corresponding tiff file\n",
    "        channel = txt[:im.shape[0],1];  ## assuming the longer txt file is due to run on at end, so crop it off\n",
    "        valve = txt[:im.shape[0],3];\n",
    "\n",
    "        redframes = np.argwhere(channel==0)[:,0]\n",
    "        greenframes = np.argwhere(channel==1)[:,0]\n",
    "        blueframes = np.argwhere(channel==2)[:,0]\n",
    "\n",
    "        redValve = valve[redframes]\n",
    "        greenValve = valve[greenframes]\n",
    "        blueValve = valve[blueframes]\n",
    "\n",
    "        redOn = np.argwhere(np.diff(redValve)==1)[0,0]\n",
    "        greenOn = np.argwhere(np.diff(greenValve)==1)[0,0]\n",
    "        blueOn = np.argwhere(np.diff(blueValve)==1)[0,0]\n",
    "\n",
    "        red = im[redframes,:,:]\n",
    "        green = im[greenframes,:,:]\n",
    "        blue = im[blueframes,:,:]\n",
    "\n",
    "        reds.append(red[redOn-pre:redOn+post,:,:])\n",
    "        greens.append(green[greenOn-pre:greenOn+post,:,:])\n",
    "        blues.append(blue[blueOn-pre:blueOn+post,:,:])\n",
    "    return np.concatenate(reds,axis=0),np.concatenate(greens,axis=0),np.concatenate(blues,axis=0)\n"
   ]
  },
  {
   "cell_type": "code",
   "execution_count": 72,
   "id": "c61ea41e-4aad-4cd6-9d86-97fc4612881f",
   "metadata": {},
   "outputs": [
    {
     "name": "stdout",
     "output_type": "stream",
     "text": [
      "Z:/Data/Mark/CS2 Experiments/OMMI/210810_thinskull4/IsoA+ETig 3%\\IsoA+ETig 3%_S001.txt\n",
      "Z:/Data/Mark/CS2 Experiments/OMMI/210810_thinskull4/IsoA+ETig 3%\\IsoA+ETig 3%_S002.txt\n",
      "Z:/Data/Mark/CS2 Experiments/OMMI/210810_thinskull4/IsoA+ETig 3%\\IsoA+ETig 3%_S003.txt\n",
      "Z:/Data/Mark/CS2 Experiments/OMMI/210810_thinskull4/IsoA+ETig 3%\\IsoA+ETig 3%_S004.txt\n",
      "Z:/Data/Mark/CS2 Experiments/OMMI/210810_thinskull4/IsoA+ETig 3%\\IsoA+ETig 3%_S005.txt\n",
      "Z:/Data/Mark/CS2 Experiments/OMMI/210810_thinskull4/IsoA+ETig 3%\\IsoA+ETig 3%_S006.txt\n",
      "Z:/Data/Mark/CS2 Experiments/OMMI/210810_thinskull4/IsoA+ETig 3%\\IsoA+ETig 3%_S007.txt\n",
      "Z:/Data/Mark/CS2 Experiments/OMMI/210810_thinskull4/IsoA+ETig 3%\\IsoA+ETig 3%_S008.txt\n",
      "Z:/Data/Mark/CS2 Experiments/OMMI/210810_thinskull4/IsoA+ETig 3%\\IsoA+ETig 3%_S009.txt\n",
      "Z:/Data/Mark/CS2 Experiments/OMMI/210810_thinskull4/IsoA+ETig 3%\\IsoA+ETig 3%_S010.txt\n",
      "Z:/Data/Mark/CS2 Experiments/OMMI/210810_thinskull4/IsoA+ETig 3%\\IsoA+ETig 3%_S011.txt\n",
      "Z:/Data/Mark/CS2 Experiments/OMMI/210810_thinskull4/IsoA+ETig 3%\\IsoA+ETig 3%_S012.txt\n",
      "Z:/Data/Mark/CS2 Experiments/OMMI/210810_thinskull4/IsoA+ETig 3%\\IsoA+ETig 3%_S013.txt\n",
      "Z:/Data/Mark/CS2 Experiments/OMMI/210810_thinskull4/IsoA+ETig 3%\\IsoA+ETig 3%_S014.txt\n",
      "Z:/Data/Mark/CS2 Experiments/OMMI/210810_thinskull4/IsoA+ETig 3%\\IsoA+ETig 3%_S015.txt\n",
      "Z:/Data/Mark/CS2 Experiments/OMMI/210810_thinskull4/IsoA+ETig 3%\\IsoA+ETig 3%_S016.txt\n"
     ]
    }
   ],
   "source": [
    "red, green, blue = demix(files,100,500)"
   ]
  },
  {
   "cell_type": "code",
   "execution_count": 75,
   "id": "417eb44e-40e7-4900-bae8-c53c27545a9b",
   "metadata": {},
   "outputs": [],
   "source": [
    "tf.imwrite('blues.tiff',blue)\n",
    "tf.imwrite('reds.tiff',red)\n",
    "tf.imwrite('greens.tiff',green)\n",
    "\n"
   ]
  }
 ],
 "metadata": {
  "kernelspec": {
   "display_name": "Python 3",
   "language": "python",
   "name": "python3"
  },
  "language_info": {
   "codemirror_mode": {
    "name": "ipython",
    "version": 3
   },
   "file_extension": ".py",
   "mimetype": "text/x-python",
   "name": "python",
   "nbconvert_exporter": "python",
   "pygments_lexer": "ipython3",
   "version": "3.7.11"
  }
 },
 "nbformat": 4,
 "nbformat_minor": 5
}
